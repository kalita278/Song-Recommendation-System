{
 "cells": [
  {
   "cell_type": "markdown",
   "metadata": {
    "id": "fiZaxPzZeSr5"
   },
   "source": [
    "<img src=\"http://drive.google.com/uc?export=view&id=1tpOCamr9aWz817atPnyXus8w5gJ3mIts\" width=500px>"
   ]
  },
  {
   "cell_type": "markdown",
   "metadata": {
    "id": "JKrNGO7_WnAu"
   },
   "source": [
    "# Content and Popularity based Recommender System"
   ]
  },
  {
   "cell_type": "markdown",
   "metadata": {
    "id": "ZaVVGb8JWyZq"
   },
   "source": [
    "## Problem Statement\n"
   ]
  },
  {
   "cell_type": "markdown",
   "metadata": {
    "id": "QvGZj8AOW0kO"
   },
   "source": [
    "A lot of companies worldwide recommend songs to listeners based on their interests. Some popular examples of such companies are Spotify, iTunes, Amazon Music and Saavn. Song recommendations helps users to discover new artists that make music similar to the genre which they listen to. This helps in increasing revenue across these platforms and helps artists make a survival by streaming their music online.\n",
    "\n",
    "As part of this exercise we will build a recommendation system that recommends a list of songs based on the user's song preference."
   ]
  },
  {
   "cell_type": "markdown",
   "metadata": {
    "id": "qN2vCOpkYHRc"
   },
   "source": [
    "## Attribute Information"
   ]
  },
  {
   "cell_type": "markdown",
   "metadata": {
    "id": "9TvWjWm4YJxz"
   },
   "source": [
    "There are 2 files that we will be using in this case study, 'songs.csv' and 'song_extra_info.csv'. \n",
    "\n",
    "The 'songs.csv' file has the following attributes:\n",
    "\n",
    "- song_id: Unique id of the song\n",
    "- song_length: Duration of the song\n",
    "- genre_ids: Unique id of the genre of the song\n",
    "- artist_name: Name of the artist who represents the song\n",
    "- composer: Name of the composer of the song\n",
    "- lyricist: Name of the lyricist of the song\n",
    "- language: The language of the song\n",
    "\n",
    "\n",
    "\n",
    "The 'song_extra_info.csv' file has the following attributes:\n",
    "\n",
    "- song_id: Unique id of the song\n",
    "- name: name of the song\n",
    "- isrc: International standard recording code"
   ]
  },
  {
   "cell_type": "markdown",
   "metadata": {
    "id": "yFutYKWlkDfF"
   },
   "source": [
    "## Table of Content\n",
    "\n",
    "1. Import Libraries\n",
    "\n",
    "2. Setting options\n",
    "\n",
    "3. Read Data \n",
    "\n",
    "4. Exploratory Data Analysis and Data Preprocessing\n",
    "\n",
    "  4.1 - Check shape \n",
    "\n",
    "  4.2 - Check for missing values\n",
    "\n",
    "  4.3 - Sample only 10000 data points from the huge dataset \n",
    "\n",
    "\n",
    "\n",
    "5. Content Based Recommendation System\n",
    "\n",
    "6. Conclusion and Interpretation"
   ]
  },
  {
   "cell_type": "code",
   "execution_count": 1,
   "metadata": {
    "colab": {
     "base_uri": "https://localhost:8080/"
    },
    "executionInfo": {
     "elapsed": 35895,
     "status": "ok",
     "timestamp": 1621250845283,
     "user": {
      "displayName": "Abhishek Singh",
      "photoUrl": "",
      "userId": "02564130673443773880"
     },
     "user_tz": -330
    },
    "id": "mrD7HR6hc8GD",
    "outputId": "621cb4d8-b54c-43c1-e543-94de7ebfa949"
   },
   "outputs": [
    {
     "name": "stdout",
     "output_type": "stream",
     "text": [
      "Mounted at /content/drive\n"
     ]
    }
   ],
   "source": [
    "from google.colab import drive\n",
    "drive.mount('/content/drive')"
   ]
  },
  {
   "cell_type": "markdown",
   "metadata": {
    "id": "WXCzqLMylLEA"
   },
   "source": [
    "## 1. Import Required Libraries"
   ]
  },
  {
   "cell_type": "code",
   "execution_count": 2,
   "metadata": {
    "executionInfo": {
     "elapsed": 36873,
     "status": "ok",
     "timestamp": 1621250846266,
     "user": {
      "displayName": "Abhishek Singh",
      "photoUrl": "",
      "userId": "02564130673443773880"
     },
     "user_tz": -330
    },
    "id": "4-IIp2VTUa5e"
   },
   "outputs": [],
   "source": [
    "import pandas as pd\n",
    "import numpy as np\n",
    "import matplotlib.pyplot as plt\n",
    "%matplotlib inline \n",
    "import os\n",
    "import glob\n",
    "import seaborn as sns\n",
    "from sklearn.preprocessing import LabelEncoder\n",
    "from zipfile import ZipFile\n",
    "\n",
    "from sklearn.feature_extraction.text import TfidfVectorizer, CountVectorizer\n",
    "from sklearn.metrics.pairwise import linear_kernel, cosine_similarity\n",
    "\n",
    "# filterwarnings to ignore all unnecessary warnings and logs\n",
    "import warnings\n",
    "warnings.filterwarnings('ignore')"
   ]
  },
  {
   "cell_type": "markdown",
   "metadata": {
    "id": "G8B5ZBRFlQWJ"
   },
   "source": [
    "## 2. Setting Options"
   ]
  },
  {
   "cell_type": "code",
   "execution_count": 3,
   "metadata": {
    "executionInfo": {
     "elapsed": 36869,
     "status": "ok",
     "timestamp": 1621250846267,
     "user": {
      "displayName": "Abhishek Singh",
      "photoUrl": "",
      "userId": "02564130673443773880"
     },
     "user_tz": -330
    },
    "id": "eHerpb1alRPd"
   },
   "outputs": [],
   "source": [
    "# suppress display of warnings\n",
    "warnings.filterwarnings('ignore')\n",
    "\n",
    "# display all dataframe columns\n",
    "pd.options.display.max_columns = None\n",
    "\n",
    "# to set the limit to 3 decimals\n",
    "pd.options.display.float_format = '{:.7f}'.format\n",
    "\n",
    "# display all dataframe rows\n",
    "pd.options.display.max_rows = None"
   ]
  },
  {
   "cell_type": "code",
   "execution_count": 4,
   "metadata": {
    "colab": {
     "base_uri": "https://localhost:8080/",
     "height": 35
    },
    "executionInfo": {
     "elapsed": 36860,
     "status": "ok",
     "timestamp": 1621250846268,
     "user": {
      "displayName": "Abhishek Singh",
      "photoUrl": "",
      "userId": "02564130673443773880"
     },
     "user_tz": -330
    },
    "id": "xch8ceFPVSLc",
    "outputId": "4ccf7a7f-c708-4453-e0a0-5a933199067e"
   },
   "outputs": [
    {
     "data": {
      "application/vnd.google.colaboratory.intrinsic+json": {
       "type": "string"
      },
      "text/plain": [
       "'/content/drive/MyDrive'"
      ]
     },
     "execution_count": 4,
     "metadata": {
      "tags": []
     },
     "output_type": "execute_result"
    }
   ],
   "source": [
    "os.chdir('/content/drive/MyDrive')\n",
    "os.getcwd()"
   ]
  },
  {
   "cell_type": "markdown",
   "metadata": {
    "id": "R4geQ6HXm5NQ"
   },
   "source": [
    "## 3. Read Data and EDA"
   ]
  },
  {
   "cell_type": "code",
   "execution_count": 3,
   "metadata": {
    "executionInfo": {
     "elapsed": 50905,
     "status": "ok",
     "timestamp": 1621250860316,
     "user": {
      "displayName": "Abhishek Singh",
      "photoUrl": "",
      "userId": "02564130673443773880"
     },
     "user_tz": -330
    },
    "id": "lYyiFvBndt1l"
   },
   "outputs": [],
   "source": [
    "#read the data files\n",
    "songs = pd.read_csv('C:/Users/Mrinal Kalita/Python Projects/Recommendation System/songs.csv',encoding='latin')\n",
    "info = pd.read_csv('C:/Users/Mrinal Kalita/Python Projects/Recommendation System/song_extra_info.csv',encoding='latin')"
   ]
  },
  {
   "cell_type": "code",
   "execution_count": 6,
   "metadata": {
    "colab": {
     "base_uri": "https://localhost:8080/",
     "height": 204
    },
    "executionInfo": {
     "elapsed": 50898,
     "status": "ok",
     "timestamp": 1621250860318,
     "user": {
      "displayName": "Abhishek Singh",
      "photoUrl": "",
      "userId": "02564130673443773880"
     },
     "user_tz": -330
    },
    "id": "HGPDwFNDnKuF",
    "outputId": "20d56950-c5b5-4802-b034-540a7162e89f"
   },
   "outputs": [
    {
     "data": {
      "text/html": [
       "<div>\n",
       "<style scoped>\n",
       "    .dataframe tbody tr th:only-of-type {\n",
       "        vertical-align: middle;\n",
       "    }\n",
       "\n",
       "    .dataframe tbody tr th {\n",
       "        vertical-align: top;\n",
       "    }\n",
       "\n",
       "    .dataframe thead th {\n",
       "        text-align: right;\n",
       "    }\n",
       "</style>\n",
       "<table border=\"1\" class=\"dataframe\">\n",
       "  <thead>\n",
       "    <tr style=\"text-align: right;\">\n",
       "      <th></th>\n",
       "      <th>song_id</th>\n",
       "      <th>song_length</th>\n",
       "      <th>genre_ids</th>\n",
       "      <th>artist_name</th>\n",
       "      <th>composer</th>\n",
       "      <th>lyricist</th>\n",
       "      <th>language</th>\n",
       "    </tr>\n",
       "  </thead>\n",
       "  <tbody>\n",
       "    <tr>\n",
       "      <th>0</th>\n",
       "      <td>CXoTN1eb7AI+DntdU1vbcwGRV4SCIDxZu+YD8JP8r4E=</td>\n",
       "      <td>247640</td>\n",
       "      <td>465</td>\n",
       "      <td>å¼µä¿¡å² (Jeff Chang)</td>\n",
       "      <td>è£è²</td>\n",
       "      <td>ä½åå¼</td>\n",
       "      <td>3.0000000</td>\n",
       "    </tr>\n",
       "    <tr>\n",
       "      <th>1</th>\n",
       "      <td>o0kFgae9QtnYgRkVPqLJwa05zIhRlUjfF7O1tDw0ZDU=</td>\n",
       "      <td>197328</td>\n",
       "      <td>444</td>\n",
       "      <td>BLACKPINK</td>\n",
       "      <td>TEDDY|  FUTURE BOUNCE|  Bekuh BOOM</td>\n",
       "      <td>TEDDY</td>\n",
       "      <td>31.0000000</td>\n",
       "    </tr>\n",
       "    <tr>\n",
       "      <th>2</th>\n",
       "      <td>DwVvVurfpuz+XPuFvucclVQEyPqcpUkHR0ne1RQzPs0=</td>\n",
       "      <td>231781</td>\n",
       "      <td>465</td>\n",
       "      <td>SUPER JUNIOR</td>\n",
       "      <td>NaN</td>\n",
       "      <td>NaN</td>\n",
       "      <td>31.0000000</td>\n",
       "    </tr>\n",
       "    <tr>\n",
       "      <th>3</th>\n",
       "      <td>dKMBWoZyScdxSkihKG+Vf47nc18N9q4m58+b4e7dSSE=</td>\n",
       "      <td>273554</td>\n",
       "      <td>465</td>\n",
       "      <td>S.H.E</td>\n",
       "      <td>æ¹¯å°åº·</td>\n",
       "      <td>å¾ä¸ç</td>\n",
       "      <td>3.0000000</td>\n",
       "    </tr>\n",
       "    <tr>\n",
       "      <th>4</th>\n",
       "      <td>W3bqWd3T+VeHFzHAUfARgW9AvVRaF4N5Yzm4Mr6Eo/o=</td>\n",
       "      <td>140329</td>\n",
       "      <td>726</td>\n",
       "      <td>è²´æç²¾é¸</td>\n",
       "      <td>Traditional</td>\n",
       "      <td>Traditional</td>\n",
       "      <td>52.0000000</td>\n",
       "    </tr>\n",
       "  </tbody>\n",
       "</table>\n",
       "</div>"
      ],
      "text/plain": [
       "                                        song_id  song_length genre_ids  \\\n",
       "0  CXoTN1eb7AI+DntdU1vbcwGRV4SCIDxZu+YD8JP8r4E=       247640       465   \n",
       "1  o0kFgae9QtnYgRkVPqLJwa05zIhRlUjfF7O1tDw0ZDU=       197328       444   \n",
       "2  DwVvVurfpuz+XPuFvucclVQEyPqcpUkHR0ne1RQzPs0=       231781       465   \n",
       "3  dKMBWoZyScdxSkihKG+Vf47nc18N9q4m58+b4e7dSSE=       273554       465   \n",
       "4  W3bqWd3T+VeHFzHAUfARgW9AvVRaF4N5Yzm4Mr6Eo/o=       140329       726   \n",
       "\n",
       "              artist_name                            composer     lyricist  \\\n",
       "0  å¼µä¿¡å² (Jeff Chang)                              è£è²    ä½åå¼   \n",
       "1               BLACKPINK  TEDDY|  FUTURE BOUNCE|  Bekuh BOOM        TEDDY   \n",
       "2            SUPER JUNIOR                                 NaN          NaN   \n",
       "3                   S.H.E                           æ¹¯å°åº·    å¾ä¸ç   \n",
       "4            è²´æç²¾é¸                         Traditional  Traditional   \n",
       "\n",
       "    language  \n",
       "0  3.0000000  \n",
       "1 31.0000000  \n",
       "2 31.0000000  \n",
       "3  3.0000000  \n",
       "4 52.0000000  "
      ]
     },
     "execution_count": 6,
     "metadata": {
      "tags": []
     },
     "output_type": "execute_result"
    }
   ],
   "source": [
    "# check few rows of the imported dataset\n",
    "songs.head()"
   ]
  },
  {
   "cell_type": "code",
   "execution_count": 7,
   "metadata": {
    "colab": {
     "base_uri": "https://localhost:8080/",
     "height": 204
    },
    "executionInfo": {
     "elapsed": 50892,
     "status": "ok",
     "timestamp": 1621250860323,
     "user": {
      "displayName": "Abhishek Singh",
      "photoUrl": "",
      "userId": "02564130673443773880"
     },
     "user_tz": -330
    },
    "id": "_gbrql4onNAY",
    "outputId": "dd37b0db-4a07-411e-c878-ccd6f4b48372"
   },
   "outputs": [
    {
     "data": {
      "text/html": [
       "<div>\n",
       "<style scoped>\n",
       "    .dataframe tbody tr th:only-of-type {\n",
       "        vertical-align: middle;\n",
       "    }\n",
       "\n",
       "    .dataframe tbody tr th {\n",
       "        vertical-align: top;\n",
       "    }\n",
       "\n",
       "    .dataframe thead th {\n",
       "        text-align: right;\n",
       "    }\n",
       "</style>\n",
       "<table border=\"1\" class=\"dataframe\">\n",
       "  <thead>\n",
       "    <tr style=\"text-align: right;\">\n",
       "      <th></th>\n",
       "      <th>song_id</th>\n",
       "      <th>name</th>\n",
       "      <th>isrc</th>\n",
       "    </tr>\n",
       "  </thead>\n",
       "  <tbody>\n",
       "    <tr>\n",
       "      <th>0</th>\n",
       "      <td>LP7pLJoJFBvyuUwvu+oLzjT+bI+UeBPURCecJsX1jjs=</td>\n",
       "      <td>æå</td>\n",
       "      <td>TWUM71200043</td>\n",
       "    </tr>\n",
       "    <tr>\n",
       "      <th>1</th>\n",
       "      <td>ClazTFnk6r0Bnuie44bocdNMM3rdlrq0bCGAsGUWcHE=</td>\n",
       "      <td>Let Me Love You</td>\n",
       "      <td>QMZSY1600015</td>\n",
       "    </tr>\n",
       "    <tr>\n",
       "      <th>2</th>\n",
       "      <td>u2ja/bZE3zhCGxvbbOB3zOoUjx27u40cf5g09UXMoKQ=</td>\n",
       "      <td>åè«æ</td>\n",
       "      <td>TWA530887303</td>\n",
       "    </tr>\n",
       "    <tr>\n",
       "      <th>3</th>\n",
       "      <td>92Fqsy0+p6+RHe2EoLKjHahORHR1Kq1TBJoClW9v+Ts=</td>\n",
       "      <td>Classic</td>\n",
       "      <td>USSM11301446</td>\n",
       "    </tr>\n",
       "    <tr>\n",
       "      <th>4</th>\n",
       "      <td>0QFmz/+rJy1Q56C1DuYqT9hKKqi5TUqx0sN0IwvoHrw=</td>\n",
       "      <td>ææç¾",
       "ç¶²</td>\n",
       "      <td>TWA471306001</td>\n",
       "    </tr>\n",
       "  </tbody>\n",
       "</table>\n",
       "</div>"
      ],
      "text/plain": [
       "                                        song_id             name          isrc\n",
       "0  LP7pLJoJFBvyuUwvu+oLzjT+bI+UeBPURCecJsX1jjs=           æå  TWUM71200043\n",
       "1  ClazTFnk6r0Bnuie44bocdNMM3rdlrq0bCGAsGUWcHE=  Let Me Love You  QMZSY1600015\n",
       "2  u2ja/bZE3zhCGxvbbOB3zOoUjx27u40cf5g09UXMoKQ=        åè«æ  TWA530887303\n",
       "3  92Fqsy0+p6+RHe2EoLKjHahORHR1Kq1TBJoClW9v+Ts=          Classic  USSM11301446\n",
       "4  0QFmz/+rJy1Q56C1DuYqT9hKKqi5TUqx0sN0IwvoHrw=     ææç¾\n",
       "ç¶²  TWA471306001"
      ]
     },
     "execution_count": 7,
     "metadata": {
      "tags": []
     },
     "output_type": "execute_result"
    }
   ],
   "source": [
    "info.head()"
   ]
  },
  {
   "cell_type": "markdown",
   "metadata": {
    "id": "dwOwxQpFn0Zg"
   },
   "source": [
    "## 4. Exploratory Data Analysis and Data Preprocessing"
   ]
  },
  {
   "cell_type": "markdown",
   "metadata": {
    "id": "rwRawVY1n25_"
   },
   "source": [
    "### 4.1 Check shape"
   ]
  },
  {
   "cell_type": "code",
   "execution_count": 8,
   "metadata": {
    "colab": {
     "base_uri": "https://localhost:8080/"
    },
    "executionInfo": {
     "elapsed": 50883,
     "status": "ok",
     "timestamp": 1621250860324,
     "user": {
      "displayName": "Abhishek Singh",
      "photoUrl": "",
      "userId": "02564130673443773880"
     },
     "user_tz": -330
    },
    "id": "dN5yUZein6e1",
    "outputId": "54442729-ca32-400b-e8c6-b23e156293f7"
   },
   "outputs": [
    {
     "data": {
      "text/plain": [
       "(2296320, 7)"
      ]
     },
     "execution_count": 8,
     "metadata": {
      "tags": []
     },
     "output_type": "execute_result"
    }
   ],
   "source": [
    "songs.shape"
   ]
  },
  {
   "cell_type": "code",
   "execution_count": 9,
   "metadata": {
    "colab": {
     "base_uri": "https://localhost:8080/"
    },
    "executionInfo": {
     "elapsed": 50875,
     "status": "ok",
     "timestamp": 1621250860325,
     "user": {
      "displayName": "Abhishek Singh",
      "photoUrl": "",
      "userId": "02564130673443773880"
     },
     "user_tz": -330
    },
    "id": "v_51L5sGn-Fq",
    "outputId": "9174d20a-3051-470b-8e19-8a4747dccca5"
   },
   "outputs": [
    {
     "data": {
      "text/plain": [
       "(2295971, 3)"
      ]
     },
     "execution_count": 9,
     "metadata": {
      "tags": []
     },
     "output_type": "execute_result"
    }
   ],
   "source": [
    "info.shape"
   ]
  },
  {
   "cell_type": "code",
   "execution_count": 10,
   "metadata": {
    "colab": {
     "base_uri": "https://localhost:8080/"
    },
    "executionInfo": {
     "elapsed": 50867,
     "status": "ok",
     "timestamp": 1621250860326,
     "user": {
      "displayName": "Abhishek Singh",
      "photoUrl": "",
      "userId": "02564130673443773880"
     },
     "user_tz": -330
    },
    "id": "kHCCzn-yd60R",
    "outputId": "abea47e5-f336-45a4-f214-dbf4b2390d5e"
   },
   "outputs": [
    {
     "name": "stdout",
     "output_type": "stream",
     "text": [
      "Index(['song_id', 'song_length', 'genre_ids', 'artist_name', 'composer',\n",
      "       'lyricist', 'language'],\n",
      "      dtype='object')\n",
      "===============================================\n",
      "Index(['song_id', 'name', 'isrc'], dtype='object')\n"
     ]
    }
   ],
   "source": [
    "# check the columns in each dataframe\n",
    "print(songs.columns)\n",
    "print('===============================================')\n",
    "print(info.columns)"
   ]
  },
  {
   "cell_type": "code",
   "execution_count": 11,
   "metadata": {
    "executionInfo": {
     "elapsed": 54981,
     "status": "ok",
     "timestamp": 1621250864443,
     "user": {
      "displayName": "Abhishek Singh",
      "photoUrl": "",
      "userId": "02564130673443773880"
     },
     "user_tz": -330
    },
    "id": "IWuG7QebeOuG"
   },
   "outputs": [],
   "source": [
    "#merge the two dataframes\n",
    "df = info.merge(songs,on='song_id')"
   ]
  },
  {
   "cell_type": "code",
   "execution_count": 12,
   "metadata": {
    "colab": {
     "base_uri": "https://localhost:8080/"
    },
    "executionInfo": {
     "elapsed": 54974,
     "status": "ok",
     "timestamp": 1621250864443,
     "user": {
      "displayName": "Abhishek Singh",
      "photoUrl": "",
      "userId": "02564130673443773880"
     },
     "user_tz": -330
    },
    "id": "sVGyUxX9flp4",
    "outputId": "a54e6bfb-2646-4dee-9bb7-a673ccf26ab8"
   },
   "outputs": [
    {
     "name": "stdout",
     "output_type": "stream",
     "text": [
      "Index(['song_id', 'name', 'isrc', 'song_length', 'genre_ids', 'artist_name',\n",
      "       'composer', 'lyricist', 'language'],\n",
      "      dtype='object')\n"
     ]
    }
   ],
   "source": [
    "print(df.columns)"
   ]
  },
  {
   "cell_type": "code",
   "execution_count": 13,
   "metadata": {
    "executionInfo": {
     "elapsed": 54973,
     "status": "ok",
     "timestamp": 1621250864444,
     "user": {
      "displayName": "Abhishek Singh",
      "photoUrl": "",
      "userId": "02564130673443773880"
     },
     "user_tz": -330
    },
    "id": "q3r9IndUftNG"
   },
   "outputs": [],
   "source": [
    "# make a copy of the original dataframe to \n",
    "df_composer = df.copy()"
   ]
  },
  {
   "cell_type": "code",
   "execution_count": 14,
   "metadata": {
    "executionInfo": {
     "elapsed": 55690,
     "status": "ok",
     "timestamp": 1621250865162,
     "user": {
      "displayName": "Abhishek Singh",
      "photoUrl": "",
      "userId": "02564130673443773880"
     },
     "user_tz": -330
    },
    "id": "GRE6dwwIgUr7"
   },
   "outputs": [],
   "source": [
    "df_composer = df_composer.drop(df_composer.columns.difference(['song_id','name','composer']),axis =1)"
   ]
  },
  {
   "cell_type": "code",
   "execution_count": 15,
   "metadata": {
    "colab": {
     "base_uri": "https://localhost:8080/"
    },
    "executionInfo": {
     "elapsed": 55685,
     "status": "ok",
     "timestamp": 1621250865164,
     "user": {
      "displayName": "Abhishek Singh",
      "photoUrl": "",
      "userId": "02564130673443773880"
     },
     "user_tz": -330
    },
    "id": "6Z58lKKrggJ6",
    "outputId": "8bf1aeb6-6419-47cd-91f7-23f574436974"
   },
   "outputs": [
    {
     "data": {
      "text/plain": [
       "(2295422, 3)"
      ]
     },
     "execution_count": 15,
     "metadata": {
      "tags": []
     },
     "output_type": "execute_result"
    }
   ],
   "source": [
    "df_composer.shape"
   ]
  },
  {
   "cell_type": "code",
   "execution_count": 16,
   "metadata": {
    "colab": {
     "base_uri": "https://localhost:8080/"
    },
    "executionInfo": {
     "elapsed": 55679,
     "status": "ok",
     "timestamp": 1621250865165,
     "user": {
      "displayName": "Abhishek Singh",
      "photoUrl": "",
      "userId": "02564130673443773880"
     },
     "user_tz": -330
    },
    "id": "4Uy17U3qqU9Z",
    "outputId": "87a069cd-7aa5-4130-ec35-051f236c0c11"
   },
   "outputs": [
    {
     "data": {
      "text/plain": [
       "song_id     object\n",
       "name        object\n",
       "composer    object\n",
       "dtype: object"
      ]
     },
     "execution_count": 16,
     "metadata": {
      "tags": []
     },
     "output_type": "execute_result"
    }
   ],
   "source": [
    "#Check Data types\n",
    "df_composer.dtypes"
   ]
  },
  {
   "cell_type": "code",
   "execution_count": 17,
   "metadata": {
    "colab": {
     "base_uri": "https://localhost:8080/",
     "height": 173
    },
    "executionInfo": {
     "elapsed": 55673,
     "status": "ok",
     "timestamp": 1621250865166,
     "user": {
      "displayName": "Abhishek Singh",
      "photoUrl": "",
      "userId": "02564130673443773880"
     },
     "user_tz": -330
    },
    "id": "hXujUO4wgp1b",
    "outputId": "91a5fc2a-9ee6-412f-a84c-77712b2ae187"
   },
   "outputs": [
    {
     "data": {
      "text/html": [
       "<div>\n",
       "<style scoped>\n",
       "    .dataframe tbody tr th:only-of-type {\n",
       "        vertical-align: middle;\n",
       "    }\n",
       "\n",
       "    .dataframe tbody tr th {\n",
       "        vertical-align: top;\n",
       "    }\n",
       "\n",
       "    .dataframe thead th {\n",
       "        text-align: right;\n",
       "    }\n",
       "</style>\n",
       "<table border=\"1\" class=\"dataframe\">\n",
       "  <thead>\n",
       "    <tr style=\"text-align: right;\">\n",
       "      <th></th>\n",
       "      <th>song_id</th>\n",
       "      <th>name</th>\n",
       "      <th>composer</th>\n",
       "    </tr>\n",
       "  </thead>\n",
       "  <tbody>\n",
       "    <tr>\n",
       "      <th>0</th>\n",
       "      <td>LP7pLJoJFBvyuUwvu+oLzjT+bI+UeBPURCecJsX1jjs=</td>\n",
       "      <td>æå</td>\n",
       "      <td>An-An Tso</td>\n",
       "    </tr>\n",
       "    <tr>\n",
       "      <th>1</th>\n",
       "      <td>ClazTFnk6r0Bnuie44bocdNMM3rdlrq0bCGAsGUWcHE=</td>\n",
       "      <td>Let Me Love You</td>\n",
       "      <td>Justin Bieber| William Grigahcine| Andrew Watt...</td>\n",
       "    </tr>\n",
       "    <tr>\n",
       "      <th>2</th>\n",
       "      <td>u2ja/bZE3zhCGxvbbOB3zOoUjx27u40cf5g09UXMoKQ=</td>\n",
       "      <td>åè«æ</td>\n",
       "      <td>A Qin</td>\n",
       "    </tr>\n",
       "    <tr>\n",
       "      <th>3</th>\n",
       "      <td>92Fqsy0+p6+RHe2EoLKjHahORHR1Kq1TBJoClW9v+Ts=</td>\n",
       "      <td>Classic</td>\n",
       "      <td>Evan Bogart|Andrew Goldstein|Lindy Robbins|Ema...</td>\n",
       "    </tr>\n",
       "  </tbody>\n",
       "</table>\n",
       "</div>"
      ],
      "text/plain": [
       "                                        song_id             name  \\\n",
       "0  LP7pLJoJFBvyuUwvu+oLzjT+bI+UeBPURCecJsX1jjs=           æå   \n",
       "1  ClazTFnk6r0Bnuie44bocdNMM3rdlrq0bCGAsGUWcHE=  Let Me Love You   \n",
       "2  u2ja/bZE3zhCGxvbbOB3zOoUjx27u40cf5g09UXMoKQ=        åè«æ   \n",
       "3  92Fqsy0+p6+RHe2EoLKjHahORHR1Kq1TBJoClW9v+Ts=          Classic   \n",
       "\n",
       "                                            composer  \n",
       "0                                          An-An Tso  \n",
       "1  Justin Bieber| William Grigahcine| Andrew Watt...  \n",
       "2                                              A Qin  \n",
       "3  Evan Bogart|Andrew Goldstein|Lindy Robbins|Ema...  "
      ]
     },
     "execution_count": 17,
     "metadata": {
      "tags": []
     },
     "output_type": "execute_result"
    }
   ],
   "source": [
    "df_composer.head(4)"
   ]
  },
  {
   "cell_type": "markdown",
   "metadata": {
    "id": "Ysx0n1OCqc-U"
   },
   "source": [
    "### 4.2 Check missing values"
   ]
  },
  {
   "cell_type": "code",
   "execution_count": 18,
   "metadata": {
    "colab": {
     "base_uri": "https://localhost:8080/"
    },
    "executionInfo": {
     "elapsed": 56189,
     "status": "ok",
     "timestamp": 1621250865693,
     "user": {
      "displayName": "Abhishek Singh",
      "photoUrl": "",
      "userId": "02564130673443773880"
     },
     "user_tz": -330
    },
    "id": "WWkUAQgzhAPP",
    "outputId": "13f3f7fb-9e24-42bb-ab74-78c51e544a12"
   },
   "outputs": [
    {
     "name": "stdout",
     "output_type": "stream",
     "text": [
      "Number of missing values across columns-\n",
      " song_id           0\n",
      "name              2\n",
      "composer    1070938\n",
      "dtype: int64\n"
     ]
    }
   ],
   "source": [
    "# Check for missing values present\n",
    "print('Number of missing values across columns-\\n', df_composer.isnull().sum())\n"
   ]
  },
  {
   "cell_type": "markdown",
   "metadata": {
    "id": "_56CJJPAq15C"
   },
   "source": [
    "There are 2 missing values in name columns and 1070938 in composer column with total records 2295422.\n",
    "\n",
    "Let's drop the missing values."
   ]
  },
  {
   "cell_type": "code",
   "execution_count": 19,
   "metadata": {
    "executionInfo": {
     "elapsed": 56730,
     "status": "ok",
     "timestamp": 1621250866237,
     "user": {
      "displayName": "Abhishek Singh",
      "photoUrl": "",
      "userId": "02564130673443773880"
     },
     "user_tz": -330
    },
    "id": "diozxyFlhJ5-"
   },
   "outputs": [],
   "source": [
    "df_composer.dropna(inplace=True)"
   ]
  },
  {
   "cell_type": "code",
   "execution_count": 20,
   "metadata": {
    "colab": {
     "base_uri": "https://localhost:8080/"
    },
    "executionInfo": {
     "elapsed": 56724,
     "status": "ok",
     "timestamp": 1621250866239,
     "user": {
      "displayName": "Abhishek Singh",
      "photoUrl": "",
      "userId": "02564130673443773880"
     },
     "user_tz": -330
    },
    "id": "RP8AiDv9hY5P",
    "outputId": "23532999-1c44-4842-b926-9f9d92b64812"
   },
   "outputs": [
    {
     "data": {
      "text/plain": [
       "song_id     0\n",
       "name        0\n",
       "composer    0\n",
       "dtype: int64"
      ]
     },
     "execution_count": 20,
     "metadata": {
      "tags": []
     },
     "output_type": "execute_result"
    }
   ],
   "source": [
    "df_composer.isnull().sum()"
   ]
  },
  {
   "cell_type": "markdown",
   "metadata": {
    "id": "IW00mBzfrQWy"
   },
   "source": [
    "### 4.3 Sample only 10000 data points from the huge dataset"
   ]
  },
  {
   "cell_type": "code",
   "execution_count": 21,
   "metadata": {
    "executionInfo": {
     "elapsed": 56723,
     "status": "ok",
     "timestamp": 1621250866241,
     "user": {
      "displayName": "Abhishek Singh",
      "photoUrl": "",
      "userId": "02564130673443773880"
     },
     "user_tz": -330
    },
    "id": "-LCOAQYahm6D"
   },
   "outputs": [],
   "source": [
    "df_sampled = df_composer.sample(n=10000,random_state=98)"
   ]
  },
  {
   "cell_type": "code",
   "execution_count": 22,
   "metadata": {
    "colab": {
     "base_uri": "https://localhost:8080/",
     "height": 204
    },
    "executionInfo": {
     "elapsed": 56717,
     "status": "ok",
     "timestamp": 1621250866244,
     "user": {
      "displayName": "Abhishek Singh",
      "photoUrl": "",
      "userId": "02564130673443773880"
     },
     "user_tz": -330
    },
    "id": "ooBkBDTlif1y",
    "outputId": "3f993a12-9efe-401f-cf6b-6536f7bd92f4"
   },
   "outputs": [
    {
     "data": {
      "text/html": [
       "<div>\n",
       "<style scoped>\n",
       "    .dataframe tbody tr th:only-of-type {\n",
       "        vertical-align: middle;\n",
       "    }\n",
       "\n",
       "    .dataframe tbody tr th {\n",
       "        vertical-align: top;\n",
       "    }\n",
       "\n",
       "    .dataframe thead th {\n",
       "        text-align: right;\n",
       "    }\n",
       "</style>\n",
       "<table border=\"1\" class=\"dataframe\">\n",
       "  <thead>\n",
       "    <tr style=\"text-align: right;\">\n",
       "      <th></th>\n",
       "      <th>song_id</th>\n",
       "      <th>name</th>\n",
       "      <th>composer</th>\n",
       "    </tr>\n",
       "  </thead>\n",
       "  <tbody>\n",
       "    <tr>\n",
       "      <th>528785</th>\n",
       "      <td>mIPh1riiWsr6144pZrVCkif1Yi5+185/mq/lRwRDdco=</td>\n",
       "      <td>ä¸è½åè¨´ä½ Â</td>\n",
       "      <td>Zheng Zhi-Hua</td>\n",
       "    </tr>\n",
       "    <tr>\n",
       "      <th>887327</th>\n",
       "      <td>fF2MVQ+R9jZ3A6EEwqHpmtlePMUqRODS/hOTC5lpFDc=</td>\n",
       "      <td>California Dreamin'</td>\n",
       "      <td>A. Phillips| M. G. Phillips</td>\n",
       "    </tr>\n",
       "    <tr>\n",
       "      <th>1381286</th>\n",
       "      <td>nCItc/z5KUqJI9/hj3XUj1pvZ03Sg0tsOx9eT/FgXPM=</td>\n",
       "      <td>GREENSLEVES</td>\n",
       "      <td>DOMÃNIO PÃBLICO   CLAUDE DEBUSSY (1862  1918)</td>\n",
       "    </tr>\n",
       "    <tr>\n",
       "      <th>171239</th>\n",
       "      <td>NIIl5lIxh6ZCbfGCJA+Yq6IRgkiOI61Q0PAKoqKciEM=</td>\n",
       "      <td>Another Day in Paradise</td>\n",
       "      <td>Bertie Higgins</td>\n",
       "    </tr>\n",
       "    <tr>\n",
       "      <th>1941379</th>\n",
       "      <td>h0H0wjQL9TGyMJOJEF5nL7pjYOO3pg/Tu+/HMjRDTa4=</td>\n",
       "      <td>V.V.V.</td>\n",
       "      <td>Sone</td>\n",
       "    </tr>\n",
       "  </tbody>\n",
       "</table>\n",
       "</div>"
      ],
      "text/plain": [
       "                                              song_id  \\\n",
       "528785   mIPh1riiWsr6144pZrVCkif1Yi5+185/mq/lRwRDdco=   \n",
       "887327   fF2MVQ+R9jZ3A6EEwqHpmtlePMUqRODS/hOTC5lpFDc=   \n",
       "1381286  nCItc/z5KUqJI9/hj3XUj1pvZ03Sg0tsOx9eT/FgXPM=   \n",
       "171239   NIIl5lIxh6ZCbfGCJA+Yq6IRgkiOI61Q0PAKoqKciEM=   \n",
       "1941379  h0H0wjQL9TGyMJOJEF5nL7pjYOO3pg/Tu+/HMjRDTa4=   \n",
       "\n",
       "                            name  \\\n",
       "528785         ä¸è½åè¨´ä½ Â    \n",
       "887327       California Dreamin'   \n",
       "1381286              GREENSLEVES   \n",
       "171239   Another Day in Paradise   \n",
       "1941379                   V.V.V.   \n",
       "\n",
       "                                                composer  \n",
       "528785                                     Zheng Zhi-Hua  \n",
       "887327                       A. Phillips| M. G. Phillips  \n",
       "1381286  DOMÃNIO PÃBLICO   CLAUDE DEBUSSY (1862  1918)  \n",
       "171239                                    Bertie Higgins  \n",
       "1941379                                             Sone  "
      ]
     },
     "execution_count": 22,
     "metadata": {
      "tags": []
     },
     "output_type": "execute_result"
    }
   ],
   "source": [
    "df_sampled.head()"
   ]
  },
  {
   "cell_type": "code",
   "execution_count": 23,
   "metadata": {
    "colab": {
     "base_uri": "https://localhost:8080/"
    },
    "executionInfo": {
     "elapsed": 56710,
     "status": "ok",
     "timestamp": 1621250866246,
     "user": {
      "displayName": "Abhishek Singh",
      "photoUrl": "",
      "userId": "02564130673443773880"
     },
     "user_tz": -330
    },
    "id": "yMQZIsY3ih9a",
    "outputId": "2746238a-09b3-44e0-fc21-7efc31b2dcdc"
   },
   "outputs": [
    {
     "data": {
      "text/plain": [
       "(10000, 3)"
      ]
     },
     "execution_count": 23,
     "metadata": {
      "tags": []
     },
     "output_type": "execute_result"
    }
   ],
   "source": [
    "df_sampled.shape"
   ]
  },
  {
   "cell_type": "markdown",
   "metadata": {
    "id": "lkCkg6ANzJAR"
   },
   "source": [
    "#5. Content Based Recommendation System"
   ]
  },
  {
   "cell_type": "markdown",
   "metadata": {
    "id": "7FSB8ZzRrzYj"
   },
   "source": [
    "We will create a document term frequency matrix using count-vectorizer on the composer column \n",
    "\n",
    "To learn more about Count Vectorizer click [here](https://scikit-learn.org/stable/modules/generated/sklearn.feature_extraction.text.CountVectorizer.html)"
   ]
  },
  {
   "cell_type": "code",
   "execution_count": 24,
   "metadata": {
    "executionInfo": {
     "elapsed": 57562,
     "status": "ok",
     "timestamp": 1621250867100,
     "user": {
      "displayName": "Abhishek Singh",
      "photoUrl": "",
      "userId": "02564130673443773880"
     },
     "user_tz": -330
    },
    "id": "MQKWQYJRirCL"
   },
   "outputs": [],
   "source": [
    "cv = CountVectorizer(analyzer='word',ngram_range=(1, 2),min_df=0, stop_words='english')\n",
    "cv_matrix = cv.fit_transform(df_sampled['composer'])"
   ]
  },
  {
   "cell_type": "code",
   "execution_count": 25,
   "metadata": {
    "colab": {
     "base_uri": "https://localhost:8080/"
    },
    "executionInfo": {
     "elapsed": 57556,
     "status": "ok",
     "timestamp": 1621250867102,
     "user": {
      "displayName": "Abhishek Singh",
      "photoUrl": "",
      "userId": "02564130673443773880"
     },
     "user_tz": -330
    },
    "id": "Pet6lumGixpB",
    "outputId": "91b767b0-92ee-4d44-a2fd-b73677a50b44"
   },
   "outputs": [
    {
     "data": {
      "text/plain": [
       "(10000, 26958)"
      ]
     },
     "execution_count": 25,
     "metadata": {
      "tags": []
     },
     "output_type": "execute_result"
    }
   ],
   "source": [
    "cv_matrix.shape"
   ]
  },
  {
   "cell_type": "markdown",
   "metadata": {
    "id": "svp2V1NmzRmp"
   },
   "source": [
    "We calculate the cosine similarity for the tfidf matrix we generated using count vectorizer"
   ]
  },
  {
   "cell_type": "code",
   "execution_count": 26,
   "metadata": {
    "executionInfo": {
     "elapsed": 57555,
     "status": "ok",
     "timestamp": 1621250867104,
     "user": {
      "displayName": "Abhishek Singh",
      "photoUrl": "",
      "userId": "02564130673443773880"
     },
     "user_tz": -330
    },
    "id": "9-pR2vmti2uT"
   },
   "outputs": [],
   "source": [
    "cosine_sim = linear_kernel(cv_matrix, cv_matrix)"
   ]
  },
  {
   "cell_type": "code",
   "execution_count": 27,
   "metadata": {
    "colab": {
     "base_uri": "https://localhost:8080/"
    },
    "executionInfo": {
     "elapsed": 57545,
     "status": "ok",
     "timestamp": 1621250867105,
     "user": {
      "displayName": "Abhishek Singh",
      "photoUrl": "",
      "userId": "02564130673443773880"
     },
     "user_tz": -330
    },
    "id": "1MNFsFIEtMYZ",
    "outputId": "04b14c31-b573-442d-8a39-82e181535805"
   },
   "outputs": [
    {
     "data": {
      "text/plain": [
       "(10000, 10000)"
      ]
     },
     "execution_count": 27,
     "metadata": {
      "tags": []
     },
     "output_type": "execute_result"
    }
   ],
   "source": [
    "cosine_sim.shape"
   ]
  },
  {
   "cell_type": "code",
   "execution_count": 28,
   "metadata": {
    "colab": {
     "base_uri": "https://localhost:8080/",
     "height": 204
    },
    "executionInfo": {
     "elapsed": 57535,
     "status": "ok",
     "timestamp": 1621250867106,
     "user": {
      "displayName": "Abhishek Singh",
      "photoUrl": "",
      "userId": "02564130673443773880"
     },
     "user_tz": -330
    },
    "id": "5u5poweAtVPS",
    "outputId": "16a8e66d-697b-4a43-9629-a933f0fd5168"
   },
   "outputs": [
    {
     "data": {
      "text/html": [
       "<div>\n",
       "<style scoped>\n",
       "    .dataframe tbody tr th:only-of-type {\n",
       "        vertical-align: middle;\n",
       "    }\n",
       "\n",
       "    .dataframe tbody tr th {\n",
       "        vertical-align: top;\n",
       "    }\n",
       "\n",
       "    .dataframe thead th {\n",
       "        text-align: right;\n",
       "    }\n",
       "</style>\n",
       "<table border=\"1\" class=\"dataframe\">\n",
       "  <thead>\n",
       "    <tr style=\"text-align: right;\">\n",
       "      <th></th>\n",
       "      <th>song_id</th>\n",
       "      <th>name</th>\n",
       "      <th>composer</th>\n",
       "    </tr>\n",
       "  </thead>\n",
       "  <tbody>\n",
       "    <tr>\n",
       "      <th>528785</th>\n",
       "      <td>mIPh1riiWsr6144pZrVCkif1Yi5+185/mq/lRwRDdco=</td>\n",
       "      <td>ä¸è½åè¨´ä½ Â</td>\n",
       "      <td>Zheng Zhi-Hua</td>\n",
       "    </tr>\n",
       "    <tr>\n",
       "      <th>887327</th>\n",
       "      <td>fF2MVQ+R9jZ3A6EEwqHpmtlePMUqRODS/hOTC5lpFDc=</td>\n",
       "      <td>California Dreamin'</td>\n",
       "      <td>A. Phillips| M. G. Phillips</td>\n",
       "    </tr>\n",
       "    <tr>\n",
       "      <th>1381286</th>\n",
       "      <td>nCItc/z5KUqJI9/hj3XUj1pvZ03Sg0tsOx9eT/FgXPM=</td>\n",
       "      <td>GREENSLEVES</td>\n",
       "      <td>DOMÃNIO PÃBLICO   CLAUDE DEBUSSY (1862  1918)</td>\n",
       "    </tr>\n",
       "    <tr>\n",
       "      <th>171239</th>\n",
       "      <td>NIIl5lIxh6ZCbfGCJA+Yq6IRgkiOI61Q0PAKoqKciEM=</td>\n",
       "      <td>Another Day in Paradise</td>\n",
       "      <td>Bertie Higgins</td>\n",
       "    </tr>\n",
       "    <tr>\n",
       "      <th>1941379</th>\n",
       "      <td>h0H0wjQL9TGyMJOJEF5nL7pjYOO3pg/Tu+/HMjRDTa4=</td>\n",
       "      <td>V.V.V.</td>\n",
       "      <td>Sone</td>\n",
       "    </tr>\n",
       "  </tbody>\n",
       "</table>\n",
       "</div>"
      ],
      "text/plain": [
       "                                              song_id  \\\n",
       "528785   mIPh1riiWsr6144pZrVCkif1Yi5+185/mq/lRwRDdco=   \n",
       "887327   fF2MVQ+R9jZ3A6EEwqHpmtlePMUqRODS/hOTC5lpFDc=   \n",
       "1381286  nCItc/z5KUqJI9/hj3XUj1pvZ03Sg0tsOx9eT/FgXPM=   \n",
       "171239   NIIl5lIxh6ZCbfGCJA+Yq6IRgkiOI61Q0PAKoqKciEM=   \n",
       "1941379  h0H0wjQL9TGyMJOJEF5nL7pjYOO3pg/Tu+/HMjRDTa4=   \n",
       "\n",
       "                            name  \\\n",
       "528785         ä¸è½åè¨´ä½ Â    \n",
       "887327       California Dreamin'   \n",
       "1381286              GREENSLEVES   \n",
       "171239   Another Day in Paradise   \n",
       "1941379                   V.V.V.   \n",
       "\n",
       "                                                composer  \n",
       "528785                                     Zheng Zhi-Hua  \n",
       "887327                       A. Phillips| M. G. Phillips  \n",
       "1381286  DOMÃNIO PÃBLICO   CLAUDE DEBUSSY (1862  1918)  \n",
       "171239                                    Bertie Higgins  \n",
       "1941379                                             Sone  "
      ]
     },
     "execution_count": 28,
     "metadata": {
      "tags": []
     },
     "output_type": "execute_result"
    }
   ],
   "source": [
    "df_sampled.head()"
   ]
  },
  {
   "cell_type": "code",
   "execution_count": 29,
   "metadata": {
    "executionInfo": {
     "elapsed": 57534,
     "status": "ok",
     "timestamp": 1621250867108,
     "user": {
      "displayName": "Abhishek Singh",
      "photoUrl": "",
      "userId": "02564130673443773880"
     },
     "user_tz": -330
    },
    "id": "D4eaNQ44i6Ze"
   },
   "outputs": [],
   "source": [
    "df_sampled = df_sampled.reset_index()"
   ]
  },
  {
   "cell_type": "code",
   "execution_count": 30,
   "metadata": {
    "colab": {
     "base_uri": "https://localhost:8080/",
     "height": 204
    },
    "executionInfo": {
     "elapsed": 57525,
     "status": "ok",
     "timestamp": 1621250867109,
     "user": {
      "displayName": "Abhishek Singh",
      "photoUrl": "",
      "userId": "02564130673443773880"
     },
     "user_tz": -330
    },
    "id": "0Wtz0IfJtdlp",
    "outputId": "8b671034-1011-4b63-e01b-9f8e23955648"
   },
   "outputs": [
    {
     "data": {
      "text/html": [
       "<div>\n",
       "<style scoped>\n",
       "    .dataframe tbody tr th:only-of-type {\n",
       "        vertical-align: middle;\n",
       "    }\n",
       "\n",
       "    .dataframe tbody tr th {\n",
       "        vertical-align: top;\n",
       "    }\n",
       "\n",
       "    .dataframe thead th {\n",
       "        text-align: right;\n",
       "    }\n",
       "</style>\n",
       "<table border=\"1\" class=\"dataframe\">\n",
       "  <thead>\n",
       "    <tr style=\"text-align: right;\">\n",
       "      <th></th>\n",
       "      <th>index</th>\n",
       "      <th>song_id</th>\n",
       "      <th>name</th>\n",
       "      <th>composer</th>\n",
       "    </tr>\n",
       "  </thead>\n",
       "  <tbody>\n",
       "    <tr>\n",
       "      <th>0</th>\n",
       "      <td>528785</td>\n",
       "      <td>mIPh1riiWsr6144pZrVCkif1Yi5+185/mq/lRwRDdco=</td>\n",
       "      <td>ä¸è½åè¨´ä½ Â</td>\n",
       "      <td>Zheng Zhi-Hua</td>\n",
       "    </tr>\n",
       "    <tr>\n",
       "      <th>1</th>\n",
       "      <td>887327</td>\n",
       "      <td>fF2MVQ+R9jZ3A6EEwqHpmtlePMUqRODS/hOTC5lpFDc=</td>\n",
       "      <td>California Dreamin'</td>\n",
       "      <td>A. Phillips| M. G. Phillips</td>\n",
       "    </tr>\n",
       "    <tr>\n",
       "      <th>2</th>\n",
       "      <td>1381286</td>\n",
       "      <td>nCItc/z5KUqJI9/hj3XUj1pvZ03Sg0tsOx9eT/FgXPM=</td>\n",
       "      <td>GREENSLEVES</td>\n",
       "      <td>DOMÃNIO PÃBLICO   CLAUDE DEBUSSY (1862  1918)</td>\n",
       "    </tr>\n",
       "    <tr>\n",
       "      <th>3</th>\n",
       "      <td>171239</td>\n",
       "      <td>NIIl5lIxh6ZCbfGCJA+Yq6IRgkiOI61Q0PAKoqKciEM=</td>\n",
       "      <td>Another Day in Paradise</td>\n",
       "      <td>Bertie Higgins</td>\n",
       "    </tr>\n",
       "    <tr>\n",
       "      <th>4</th>\n",
       "      <td>1941379</td>\n",
       "      <td>h0H0wjQL9TGyMJOJEF5nL7pjYOO3pg/Tu+/HMjRDTa4=</td>\n",
       "      <td>V.V.V.</td>\n",
       "      <td>Sone</td>\n",
       "    </tr>\n",
       "  </tbody>\n",
       "</table>\n",
       "</div>"
      ],
      "text/plain": [
       "     index                                       song_id  \\\n",
       "0   528785  mIPh1riiWsr6144pZrVCkif1Yi5+185/mq/lRwRDdco=   \n",
       "1   887327  fF2MVQ+R9jZ3A6EEwqHpmtlePMUqRODS/hOTC5lpFDc=   \n",
       "2  1381286  nCItc/z5KUqJI9/hj3XUj1pvZ03Sg0tsOx9eT/FgXPM=   \n",
       "3   171239  NIIl5lIxh6ZCbfGCJA+Yq6IRgkiOI61Q0PAKoqKciEM=   \n",
       "4  1941379  h0H0wjQL9TGyMJOJEF5nL7pjYOO3pg/Tu+/HMjRDTa4=   \n",
       "\n",
       "                      name                                         composer  \n",
       "0        ä¸è½åè¨´ä½ Â                                     Zheng Zhi-Hua  \n",
       "1      California Dreamin'                      A. Phillips| M. G. Phillips  \n",
       "2              GREENSLEVES  DOMÃNIO PÃBLICO   CLAUDE DEBUSSY (1862  1918)  \n",
       "3  Another Day in Paradise                                   Bertie Higgins  \n",
       "4                   V.V.V.                                             Sone  "
      ]
     },
     "execution_count": 30,
     "metadata": {
      "tags": []
     },
     "output_type": "execute_result"
    }
   ],
   "source": [
    "df_sampled.head()"
   ]
  },
  {
   "cell_type": "code",
   "execution_count": 31,
   "metadata": {
    "executionInfo": {
     "elapsed": 57523,
     "status": "ok",
     "timestamp": 1621250867110,
     "user": {
      "displayName": "Abhishek Singh",
      "photoUrl": "",
      "userId": "02564130673443773880"
     },
     "user_tz": -330
    },
    "id": "oH-_kNN5thek"
   },
   "outputs": [],
   "source": [
    "titles = df_sampled['name']\n",
    "indices = pd.Series(df_sampled.index, index=df_sampled['name'])"
   ]
  },
  {
   "cell_type": "markdown",
   "metadata": {
    "id": "Tb8mFRI2zbCd"
   },
   "source": [
    "We create an indices dataframe which will give the index of the song given the song name"
   ]
  },
  {
   "cell_type": "code",
   "execution_count": 32,
   "metadata": {
    "colab": {
     "base_uri": "https://localhost:8080/"
    },
    "executionInfo": {
     "elapsed": 57512,
     "status": "ok",
     "timestamp": 1621250867111,
     "user": {
      "displayName": "Abhishek Singh",
      "photoUrl": "",
      "userId": "02564130673443773880"
     },
     "user_tz": -330
    },
    "id": "g76q65AWtnjX",
    "outputId": "a92fb1a6-d841-4d21-fc92-c10eea1edfa3"
   },
   "outputs": [
    {
     "data": {
      "text/plain": [
       "name\n",
       "ä¸è½åè¨´ä½ Â           0\n",
       "California Dreamin'        1\n",
       "GREENSLEVES                2\n",
       "Another Day in Paradise    3\n",
       "V.V.V.                     4\n",
       "dtype: int64"
      ]
     },
     "execution_count": 32,
     "metadata": {
      "tags": []
     },
     "output_type": "execute_result"
    }
   ],
   "source": [
    "indices.head()"
   ]
  },
  {
   "cell_type": "markdown",
   "metadata": {
    "id": "9nInhF-fzhjj"
   },
   "source": [
    "This function takes in a song name as an argument, finds it's index. Then it gets a list of all similarity scores for the song index. Then it sorts the similarity scores from highest to lowest and takes only the first 30 scores and returns the song names for these indices with highest scores."
   ]
  },
  {
   "cell_type": "code",
   "execution_count": 33,
   "metadata": {
    "executionInfo": {
     "elapsed": 57509,
     "status": "ok",
     "timestamp": 1621250867112,
     "user": {
      "displayName": "Abhishek Singh",
      "photoUrl": "",
      "userId": "02564130673443773880"
     },
     "user_tz": -330
    },
    "id": "zQl-D5iNjEi2"
   },
   "outputs": [],
   "source": [
    "def get_recommendations(Name):\n",
    "    idx = indices[Name]\n",
    "    sim_scores = list(enumerate(cosine_sim[idx]))\n",
    "    sim_scores = sorted(sim_scores, key=lambda x: x[1], reverse=True)\n",
    "    sim_scores = sim_scores[1:31]\n",
    "    music_indices = [i[0] for i in sim_scores]\n",
    "    return titles.iloc[music_indices]\n"
   ]
  },
  {
   "cell_type": "markdown",
   "metadata": {
    "id": "H0J7lVBz0Kp6"
   },
   "source": [
    "Let us try it on a few songs"
   ]
  },
  {
   "cell_type": "code",
   "execution_count": 34,
   "metadata": {
    "colab": {
     "base_uri": "https://localhost:8080/"
    },
    "executionInfo": {
     "elapsed": 57502,
     "status": "ok",
     "timestamp": 1621250867113,
     "user": {
      "displayName": "Abhishek Singh",
      "photoUrl": "",
      "userId": "02564130673443773880"
     },
     "user_tz": -330
    },
    "id": "27hGrtQRjPuA",
    "outputId": "217f7065-8c35-47fa-c0a0-495b0ec99c95"
   },
   "outputs": [
    {
     "data": {
      "text/plain": [
       "354               Sound Of The Underground\n",
       "5770    Little White Lies (Wideboys Remix)\n",
       "9074                               Floatin\n",
       "0                        ä¸è½åè¨´ä½ Â \n",
       "1                      California Dreamin'\n",
       "Name: name, dtype: object"
      ]
     },
     "execution_count": 34,
     "metadata": {
      "tags": []
     },
     "output_type": "execute_result"
    }
   ],
   "source": [
    "get_recommendations('Another Day in Paradise').head(5)"
   ]
  },
  {
   "cell_type": "code",
   "execution_count": 35,
   "metadata": {
    "colab": {
     "base_uri": "https://localhost:8080/"
    },
    "executionInfo": {
     "elapsed": 57496,
     "status": "ok",
     "timestamp": 1621250867114,
     "user": {
      "displayName": "Abhishek Singh",
      "photoUrl": "",
      "userId": "02564130673443773880"
     },
     "user_tz": -330
    },
    "id": "B5M6i3YVjYEr",
    "outputId": "35243e71-73e0-45bc-a359-335f11b2e39e"
   },
   "outputs": [
    {
     "data": {
      "text/plain": [
       "0                   ä¸è½åè¨´ä½ Â \n",
       "1                 California Dreamin'\n",
       "2                         GREENSLEVES\n",
       "3             Another Day in Paradise\n",
       "5                             Tai Chi\n",
       "6            æ¨ä¸å¾æç¼ççé\n",
       "7     Ãtude No. 3 in E Major| Op. 10\n",
       "8                             Hey You\n",
       "9                       Fools Rush In\n",
       "10                          é¨æ«»è±\n",
       "Name: name, dtype: object"
      ]
     },
     "execution_count": 35,
     "metadata": {
      "tags": []
     },
     "output_type": "execute_result"
    }
   ],
   "source": [
    "get_recommendations('V.V.V.').head(10)"
   ]
  },
  {
   "cell_type": "markdown",
   "metadata": {
    "id": "3k8ZwXxYKlfI"
   },
   "source": [
    "### 6. We can also recommend the users based on popularity. Display the 5 most popular songs."
   ]
  },
  {
   "cell_type": "code",
   "execution_count": 39,
   "metadata": {
    "colab": {
     "base_uri": "https://localhost:8080/"
    },
    "executionInfo": {
     "elapsed": 1425,
     "status": "ok",
     "timestamp": 1621252412994,
     "user": {
      "displayName": "Abhishek Singh",
      "photoUrl": "",
      "userId": "02564130673443773880"
     },
     "user_tz": -330
    },
    "id": "pASvtrk1IeoN",
    "outputId": "e220bfb0-2c35-4bbe-e974-aa7248f663fe"
   },
   "outputs": [
    {
     "data": {
      "text/plain": [
       "1. Allegro    10\n",
       "I. Allegro     7\n",
       "I Love You     6\n",
       "Tonight        6\n",
       "Intro          5\n",
       "Name: name, dtype: int64"
      ]
     },
     "execution_count": 39,
     "metadata": {
      "tags": []
     },
     "output_type": "execute_result"
    }
   ],
   "source": [
    "#The top 5, most popular songs in our sample are:\n",
    "df_sampled['name'].value_counts().head(5)"
   ]
  },
  {
   "cell_type": "markdown",
   "metadata": {
    "id": "kcFEJEcU0Oa7"
   },
   "source": [
    "### 7. Conclusion and Interpretation"
   ]
  },
  {
   "cell_type": "markdown",
   "metadata": {
    "id": "68cZ3gTo0Vk_"
   },
   "source": [
    "Thus, we have successfully built a content based song recommendation engine using 10000 songs from the entire dataset of songs that was available to us."
   ]
  },
  {
   "cell_type": "code",
   "execution_count": null,
   "metadata": {
    "id": "ShSwtdv6KiA9"
   },
   "outputs": [],
   "source": []
  }
 ],
 "metadata": {
  "colab": {
   "collapsed_sections": [],
   "name": "RS_Week-1_Sample_Solution.ipynb",
   "provenance": []
  },
  "kernelspec": {
   "display_name": "Python 3 (ipykernel)",
   "language": "python",
   "name": "python3"
  },
  "language_info": {
   "codemirror_mode": {
    "name": "ipython",
    "version": 3
   },
   "file_extension": ".py",
   "mimetype": "text/x-python",
   "name": "python",
   "nbconvert_exporter": "python",
   "pygments_lexer": "ipython3",
   "version": "3.8.18"
  }
 },
 "nbformat": 4,
 "nbformat_minor": 4
}
